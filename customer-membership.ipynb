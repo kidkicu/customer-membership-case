{
 "cells": [
  {
   "cell_type": "markdown",
   "id": "303a3fca",
   "metadata": {},
   "source": [
    "# Customer Membership"
   ]
  },
  {
   "cell_type": "markdown",
   "id": "b2b865a1",
   "metadata": {},
   "source": [
    "#### Membership Table"
   ]
  },
  {
   "cell_type": "markdown",
   "id": "34061813",
   "metadata": {},
   "source": [
    "| **Membership** | **Discount** |                     **Another Benefit**                     |\n",
    "|:--------------:|:------------:|:-----------------------------------------------------------:|\n",
    "|    Platinum    |      15%     | Benefit Silver + Gold + Voucher Liburan + Cashback max. 30% |\n",
    "|      Gold      |      10%     | Benefit Silver + Voucher Ojek Online                        |\n",
    "|     Silver     |      8%      | Voucher Makanan                                             |"
   ]
  },
  {
   "cell_type": "markdown",
   "id": "2e791221",
   "metadata": {},
   "source": [
    "#### Requirements Membership Table "
   ]
  },
  {
   "cell_type": "markdown",
   "id": "2ca40574",
   "metadata": {},
   "source": [
    "| **Membership** | **Monthly Expense (juta)** | **Monthly Income (juta)** |\n",
    "|:--------------:|:--------------------------:|:-------------------------:|\n",
    "|    Platinum    |              8             | 15                        |\n",
    "|      Gold      |              6             | 10                        |\n",
    "|     Silver     |              5             | 7                         |"
   ]
  },
  {
   "cell_type": "markdown",
   "id": "0ebd7755",
   "metadata": {},
   "source": [
    "### Features List\n",
    "- [ ] `show_benefit()` --> show all membership benefit (table 1)\n",
    "- [ ] `show_requirements()` --> show all requirements untuk menjadi membership (table 2)\n",
    "- [ ] `predict_membership(monthly_expense, monthly_income)` --> memprediksi user akan masuk ke dalam membership mana berdasarkan input parameter dan parameter masing - masing membership\n",
    "- [ ] `calculate_price(membership, list_harga_barang)` --> menghitung final price yang harus dibayarkan, terus akan mendapatkan diskon sesuai dengan ketentuan membership"
   ]
  },
  {
   "cell_type": "markdown",
   "id": "d0d413cd",
   "metadata": {},
   "source": [
    "### Import Library "
   ]
  },
  {
   "cell_type": "code",
   "execution_count": 2,
   "id": "fd7f60fe",
   "metadata": {},
   "outputs": [],
   "source": [
    "# untuk membuat table\n",
    "from tabulate import tabulate\n",
    "\n",
    "# square root, untuk menghitung euclidean distance\n",
    "from math import sqrt"
   ]
  },
  {
   "cell_type": "markdown",
   "id": "8d9c82ac",
   "metadata": {},
   "source": [
    "### Create Membership Class \n",
    "\n",
    "Data yang harus dibuat Username dan Membership untuk existing user:\n",
    "- Sumbul: Platinum\n",
    "- Ana: Gold\n",
    "- Cahya: Platinum"
   ]
  },
  {
   "cell_type": "markdown",
   "id": "e412d227",
   "metadata": {},
   "source": [
    "### Create Membership Class \n",
    "\n",
    "Data yang harus dibuat Username dan Membership untuk existing user:\n",
    "- Sumbul: Platinum\n",
    "- Ana: Gold\n",
    "- Cahya: Platinum"
   ]
  },
  {
   "cell_type": "code",
   "execution_count": 3,
   "id": "ef8642d4",
   "metadata": {},
   "outputs": [],
   "source": [
    "class Membership:\n",
    "    # inisialisasi data\n",
    "    user_data = {\n",
    "        \"Sumbul\": \"Platinum\",\n",
    "        \"Ana\": \"Gold\",\n",
    "        \"Cahya\": \"Platinum\"\n",
    "    }\n",
    "\n",
    "    membership = {\n",
    "        'Membership': ['Platinum', 'Gold', 'Silver'],\n",
    "        'Discount': ['15%', '10%', '8%'],\n",
    "        'Another Benefit':['Benefit Silver + Gold + Voucher Liburan + Cashback max. 30%', 'Benefit Silver + Voucher Ojek Online', 'Voucher Makanan']\n",
    "        }\n",
    "    \n",
    "    requirements = {\n",
    "        'Membership':['Platinum', 'Gold', 'Silver'],\n",
    "        'Monthly Expense (juta)': [8, 6, 5],\n",
    "        'Monthly Income (juta)': [15, 10, 7]\n",
    "    }\n",
    "    \n",
    "    # inisialisai attribute\n",
    "    def __init__(self, username):\n",
    "        self.username = username\n",
    "        \n",
    "    # method untuk menampilkan benefit membership\n",
    "    def show_benefit(self):\n",
    "        print(\"Benefit Membership PacCommerce\")\n",
    "        print(\"\")\n",
    "        print(tabulate(self.membership, headers='keys', tablefmt='github', stralign=\"center\"))\n",
    "    \n",
    "    def show_requirements(self):\n",
    "        print(\"Requirements Membership PacCommerce\\n\")\n",
    "        print(\"\")\n",
    "        print(tabulate(self.requirements, headers='keys', tablefmt='github', stralign=\"center\"))\n",
    "    \n",
    "    def predict_membership(self, monthly_expense, monthly_income):\n",
    "        r_list = []\n",
    "        for i in range(len(self.requirements['Membership'])):\n",
    "            r_user = sqrt(\n",
    "                (monthly_expense - self.requirements['Monthly Expense (juta)'][i])**2 \n",
    "                + (monthly_income - self.requirements['Monthly Income (juta)'][i])**2\n",
    "            )\n",
    "            r_list.append(r_user)\n",
    "\n",
    "        membership_list = self.requirements['Membership']\n",
    "        \n",
    "        r_dict = dict(zip(membership_list, r_list))\n",
    "        \n",
    "        index_r_user = r_list.index(min(r_list))\n",
    "\n",
    "        membership_type = self.requirements['Membership'][index_r_user]\n",
    "        print(f'Hasil perhitungan Euclidean Distance dari user {self.username} adalah {r_dict}')\n",
    "        print(membership_type)\n",
    "        \n",
    "        # Check if username in self.data, if not add\n",
    "        if self.username not in self.user_data:\n",
    "            self.user_data[self.username] = membership_type\n",
    "            \n",
    "    def show_membership(self):\n",
    "        if self.username in self.user_data:\n",
    "            return self.user_data[self.username]\n",
    "        \n",
    "    def calculate_price(self, list_harga_barang):\n",
    "        user_membership = self.show_membership()\n",
    "\n",
    "        index_membership = self.membership['Membership'].index(user_membership)\n",
    "\n",
    "        discount_str = self.membership['Discount'][index_membership]\n",
    "\n",
    "        discount = int(discount_str.rstrip('%')) / 100\n",
    "\n",
    "        sum_list_harga_barang = sum(list_harga_barang)\n",
    "        \n",
    "        final_price = sum_list_harga_barang - (sum_list_harga_barang * discount)\n",
    "        \n",
    "        print(f'Final price: {final_price}')"
   ]
  },
  {
   "cell_type": "code",
   "execution_count": 4,
   "id": "59fb9574",
   "metadata": {},
   "outputs": [],
   "source": [
    "daniel = Membership(username=\"Daniel\")\n",
    "aisyah = Membership(username=\"Aisyah\")"
   ]
  },
  {
   "cell_type": "code",
   "execution_count": 5,
   "id": "2237e61a",
   "metadata": {
    "scrolled": true
   },
   "outputs": [
    {
     "name": "stdout",
     "output_type": "stream",
     "text": [
      "Username user 1 : Daniel\n",
      "Usename user 2 : Aisyah\n"
     ]
    }
   ],
   "source": [
    "print(f'Username user 1 : {daniel.username}')\n",
    "print(f'Usename user 2 : {aisyah.username}')"
   ]
  },
  {
   "cell_type": "code",
   "execution_count": 6,
   "id": "4cfcd0b8",
   "metadata": {},
   "outputs": [
    {
     "name": "stdout",
     "output_type": "stream",
     "text": [
      "Benefit Membership PacCommerce\n",
      "\n",
      "|  Membership  |  Discount  |                       Another Benefit                       |\n",
      "|--------------|------------|-------------------------------------------------------------|\n",
      "|   Platinum   |    15%     | Benefit Silver + Gold + Voucher Liburan + Cashback max. 30% |\n",
      "|     Gold     |    10%     |            Benefit Silver + Voucher Ojek Online             |\n",
      "|    Silver    |     8%     |                       Voucher Makanan                       |\n"
     ]
    }
   ],
   "source": [
    "daniel.show_benefit()"
   ]
  },
  {
   "cell_type": "code",
   "execution_count": 7,
   "id": "ce0199a5",
   "metadata": {},
   "outputs": [
    {
     "name": "stdout",
     "output_type": "stream",
     "text": [
      "Requirements Membership PacCommerce\n",
      "\n",
      "\n",
      "|  Membership  |   Monthly Expense (juta) |   Monthly Income (juta) |\n",
      "|--------------|--------------------------|-------------------------|\n",
      "|   Platinum   |                        8 |                      15 |\n",
      "|     Gold     |                        6 |                      10 |\n",
      "|    Silver    |                        5 |                       7 |\n"
     ]
    }
   ],
   "source": [
    "aisyah.show_requirements()"
   ]
  },
  {
   "cell_type": "code",
   "execution_count": 8,
   "id": "aa73b55b",
   "metadata": {},
   "outputs": [
    {
     "name": "stdout",
     "output_type": "stream",
     "text": [
      "Hasil perhitungan Euclidean Distance dari user Daniel adalah {'Platinum': 3.1622776601683795, 'Gold': 3.605551275463989, 'Silver': 6.4031242374328485}\n",
      "Platinum\n"
     ]
    }
   ],
   "source": [
    "daniel.predict_membership(monthly_expense=9,\n",
    "                         monthly_income=12)"
   ]
  },
  {
   "cell_type": "code",
   "execution_count": 9,
   "id": "20aab6ad",
   "metadata": {},
   "outputs": [
    {
     "name": "stdout",
     "output_type": "stream",
     "text": [
      "Hasil perhitungan Euclidean Distance dari user Aisyah adalah {'Platinum': 3.605551275463989, 'Gold': 2.0, 'Silver': 5.0990195135927845}\n",
      "Gold\n"
     ]
    }
   ],
   "source": [
    "aisyah.predict_membership(monthly_expense=6,\n",
    "                         monthly_income=12)"
   ]
  },
  {
   "cell_type": "code",
   "execution_count": 10,
   "id": "f3542d29",
   "metadata": {},
   "outputs": [
    {
     "data": {
      "text/plain": [
       "'Platinum'"
      ]
     },
     "execution_count": 10,
     "metadata": {},
     "output_type": "execute_result"
    }
   ],
   "source": [
    "daniel.show_membership()"
   ]
  },
  {
   "cell_type": "code",
   "execution_count": 11,
   "id": "62f99b00",
   "metadata": {},
   "outputs": [
    {
     "data": {
      "text/plain": [
       "'Gold'"
      ]
     },
     "execution_count": 11,
     "metadata": {},
     "output_type": "execute_result"
    }
   ],
   "source": [
    "aisyah.show_membership()"
   ]
  },
  {
   "cell_type": "code",
   "execution_count": 12,
   "id": "075d8c8c",
   "metadata": {},
   "outputs": [
    {
     "name": "stdout",
     "output_type": "stream",
     "text": [
      "Final price: 637500.0\n"
     ]
    }
   ],
   "source": [
    "daniel.calculate_price([150_000, 200_000, 400_000])"
   ]
  },
  {
   "cell_type": "code",
   "execution_count": 13,
   "id": "4ac1bef4",
   "metadata": {},
   "outputs": [
    {
     "name": "stdout",
     "output_type": "stream",
     "text": [
      "Final price: 675000.0\n"
     ]
    }
   ],
   "source": [
    "aisyah.calculate_price([150_000, 200_000, 400_000])"
   ]
  }
 ],
 "metadata": {
  "kernelspec": {
   "display_name": "Python 3 (ipykernel)",
   "language": "python",
   "name": "python3"
  },
  "language_info": {
   "codemirror_mode": {
    "name": "ipython",
    "version": 3
   },
   "file_extension": ".py",
   "mimetype": "text/x-python",
   "name": "python",
   "nbconvert_exporter": "python",
   "pygments_lexer": "ipython3",
   "version": "3.11.4"
  }
 },
 "nbformat": 4,
 "nbformat_minor": 5
}
